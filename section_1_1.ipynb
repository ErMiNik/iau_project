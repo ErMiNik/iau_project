{
 "cells": [
  {
   "cell_type": "code",
   "execution_count": 2,
   "metadata": {},
   "outputs": [],
   "source": [
    "import matplotlib.pyplot as plt\n",
    "import seaborn as sns\n",
    "import pandas as pd\n",
    "import numpy as np\n",
    "import scipy.stats as stats\n",
    "from pathlib import Path"
   ]
  },
  {
   "cell_type": "markdown",
   "metadata": {},
   "source": [
    "- (A-1b) Analýza štruktúr dát ako súbory (štruktúry a vzťahy, počet, typy, …), záznamy (štruktúry, počet záznamov, počet atribútov, typy, …)"
   ]
  },
  {
   "cell_type": "code",
   "execution_count": 51,
   "metadata": {},
   "outputs": [
    {
     "data": {
      "text/plain": [
       "Index(['address', 'job', 'birthdate', 'name', 'registration', 'imei', 'ssn',\n",
       "       'username', 'user_id', 'company', 'current_location', 'mail'],\n",
       "      dtype='object')"
      ]
     },
     "execution_count": 51,
     "metadata": {},
     "output_type": "execute_result"
    }
   ],
   "source": [
    "folder = Path(\"./070\")\n",
    "\n",
    "# it is possible there will only need to be .info(), .shape and \n",
    "# some comment about the attributes and that each dataset has imei \n",
    "\n",
    "# This code will handle the column 'ts' as datetime type instead of string\n",
    "# data = pd.read_csv(folder / \"connections.csv\", delimiter=\"\\t\", parse_dates=['ts'])\n",
    "# print(f'=====EDA connections.csv=====')\n",
    "# print(data.head())\n",
    "# data.info()\n",
    "# data.columns\n",
    "# print(data.shape) # (15068, 13) (rows, columns)\n",
    "# print(data.shape[0] - data.dropna().shape[0]) # 0 -> there are no missing values\n",
    "# len(data[\"imei\"].unique()) # there is only 500 unique imei values so it is not an ID\n",
    "\n",
    "\n",
    "# NOTES connections.csv:\n",
    "# column 'ts' had to be converted to date from a string\n",
    "\n",
    "# data2 = pd.read_csv(folder / \"devices.csv\", delimiter='\\t')\n",
    "# data2.head()\n",
    "# data2.info()\n",
    "# data2.columns\n",
    "# data2.shape    # (2889, 6)\n",
    "# data2.loc[data2['code'].isna(), :] # 2 dupplicates but have different imei number\n",
    "# data2.describe()\n",
    "# len(data2[\"imei\"].unique()) # there are 499 unique imei values\n",
    "\n",
    "\n",
    "# NOTES devces.csv:\n",
    "# two rows have missing code attribute\n",
    "\n",
    "# data3 = pd.read_csv(folder / \"processes.csv\", delimiter='\\t', parse_dates=['ts'])\n",
    "# data3.info()\n",
    "# data3.columns\n",
    "# data3.shape # (15068, 23)\n",
    "\n",
    "# NOTES processes.csv:\n",
    "# attribute ts is string again, it had to be convered to datetime\n",
    "\n",
    "data4 = pd.read_csv(folder / \"profiles.csv\", delimiter='\\t')\n",
    "# data4.info()\n",
    "data4.columns\n",
    "# data4.shape # (15068, 23)\n",
    "\n",
    "# NOTES profiles.csv:\n",
    "# almost every attribute except imei and user_id are objects\n",
    "\n",
    "# all attributes:\n",
    "# ['ts', 'imei', 'mwra', 'c.android.youtube', 'c.katana', 'c.dogalize',\n",
    "# 'c.android.chrome', 'c.android.gm', 'c.UCMobile.x86', 'c.raider',\n",
    "# 'c.android.vending', 'c.updateassist', 'c.UCMobile.intl']\n",
    "\n",
    "# ['latitude', 'longitude', 'store_name', 'code', 'location', 'imei']\n",
    "\n",
    "# ['ts', 'imei', 'mwra', 'p.android.chrome', 'p.android.documentsui',\n",
    "# 'p.android.packageinstaller', 'p.android.settings', 'p.android.gm',\n",
    "# 'p.android.externalstorage', 'p.system', 'p.android.gms', 'p.dogalize',\n",
    "# 'p.process.gapps', 'p.katana', 'p.google', 'p.notifier',\n",
    "# 'p.android.defcontainer', 'p.android.vending', 'p.inputmethod.latin',\n",
    "# 'p.simulator', 'p.olauncher', 'p.browser.provider', 'p.gms.persistent']\n",
    "\n",
    "#['address', 'job', 'birthdate', 'name', 'registration', 'imei', 'ssn',\n",
    "# 'username', 'user_id', 'company', 'current_location', 'mail']\n"
   ]
  },
  {
   "cell_type": "markdown",
   "metadata": {},
   "source": [
    "- (B-1b) Analýza jednotlivých atribútov: pre zvolené významné atribúty (min 10) analyzujte ich distribúcie a základné deskriptívne štatistiky. \n"
   ]
  },
  {
   "cell_type": "code",
   "execution_count": null,
   "metadata": {},
   "outputs": [],
   "source": []
  },
  {
   "cell_type": "markdown",
   "metadata": {},
   "source": [
    "- (C-1b) Párová analýza dát: Identifikujte vzťahy a závislostí medzi dvojicami atribútov."
   ]
  },
  {
   "cell_type": "code",
   "execution_count": null,
   "metadata": {},
   "outputs": [],
   "source": []
  },
  {
   "cell_type": "markdown",
   "metadata": {},
   "source": [
    "- (D-1b) Párová analýza dát: Identifikujte závislosti medzi predikovanou premennou a ostatnými premennými (potenciálnymi prediktormi)."
   ]
  },
  {
   "cell_type": "code",
   "execution_count": null,
   "metadata": {},
   "outputs": [],
   "source": []
  },
  {
   "cell_type": "markdown",
   "metadata": {},
   "source": [
    "- (E-1b) Dokumentujte Vaše prvotné zamyslenie k riešeniu zadania projektu, napr. sú niektoré atribúty medzi sebou závislé? od ktorých atribútov závisí predikovaná premenná? či je potrebné kombinovať záznamy z viacerých súborov?"
   ]
  },
  {
   "cell_type": "code",
   "execution_count": null,
   "metadata": {},
   "outputs": [],
   "source": []
  }
 ],
 "metadata": {
  "kernelspec": {
   "display_name": "venv",
   "language": "python",
   "name": "python3"
  },
  "language_info": {
   "codemirror_mode": {
    "name": "ipython",
    "version": 3
   },
   "file_extension": ".py",
   "mimetype": "text/x-python",
   "name": "python",
   "nbconvert_exporter": "python",
   "pygments_lexer": "ipython3",
   "version": "3.12.0"
  }
 },
 "nbformat": 4,
 "nbformat_minor": 2
}
