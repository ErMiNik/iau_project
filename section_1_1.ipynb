{
 "cells": [
  {
   "cell_type": "code",
   "execution_count": 381,
   "metadata": {},
   "outputs": [],
   "source": [
    "import matplotlib.pyplot as plt\n",
    "import seaborn as sns\n",
    "import pandas as pd\n",
    "import numpy as np\n",
    "import scipy.stats as stats\n",
    "from pathlib import Path"
   ]
  },
  {
   "cell_type": "markdown",
   "metadata": {},
   "source": [
    "- (A-1b) Analýza štruktúr dát ako súbory (štruktúry a vzťahy, počet, typy, …), záznamy (štruktúry, počet záznamov, počet atribútov, typy, …)"
   ]
  },
  {
   "cell_type": "code",
   "execution_count": null,
   "metadata": {},
   "outputs": [],
   "source": [
    "folder = Path(\"./070\")\n",
    "\n",
    "# it is possible there will only need to be .info(), .shape and \n",
    "# some comment about the attributes and that each dataset has imei \n",
    "\n",
    "# This code will handle the column 'ts' as datetime type instead of string\n",
    "data = pd.read_csv(folder / \"connections.csv\", delimiter=\"\\t\", parse_dates=['ts'])\n",
    "# data.head()\n",
    "data.info()\n",
    "# print(data.shape) # (15068, 13) (rows, columns)\n",
    "data.describe()\n",
    "# NOTES connections.csv:\n",
    "# column 'ts' had to be converted to date from a string"
   ]
  },
  {
   "cell_type": "code",
   "execution_count": null,
   "metadata": {},
   "outputs": [],
   "source": [
    "data2 = pd.read_csv(folder / \"devices.csv\", delimiter='\\t')\n",
    "# data2.head()\n",
    "data2.info()\n",
    "# data2.columns\n",
    "# data2.shape    # (2889, 6)\n",
    "# data2.loc[data2['code'].isna(), :] # 2 dupplicates but have different imei number\n",
    "# data2.describe()\n",
    "# len(data2[\"imei\"].unique()) # there are 499 unique imei values\n",
    "\n",
    "\n",
    "# NOTES devces.csv:\n",
    "# two rows have missing code attribute"
   ]
  },
  {
   "cell_type": "code",
   "execution_count": null,
   "metadata": {},
   "outputs": [],
   "source": [
    "data3 = pd.read_csv(folder / \"processes.csv\", delimiter='\\t', parse_dates=['ts'])\n",
    "data3.info()\n",
    "data3.describe()\n",
    "# data3.columns\n",
    "# data3.shape # (15068, 23)\n",
    "\n",
    "# NOTES processes.csv:\n",
    "# attribute ts is string again, it had to be convered to datetime\n"
   ]
  },
  {
   "cell_type": "code",
   "execution_count": null,
   "metadata": {},
   "outputs": [],
   "source": [
    "data4 = pd.read_csv(folder / \"profiles.csv\", delimiter='\\t')\n",
    "data4.info()\n",
    "# data4.head()\n",
    "# data4.describe\n",
    "# data4.columns\n",
    "# data4.shape # (15068, 23)\n",
    "# print(len(data4['imei'].unique()))\n",
    "\n",
    "\n",
    "# NOTES profiles.csv:\n",
    "# almost every attribute except imei and user_id are objects"
   ]
  },
  {
   "cell_type": "code",
   "execution_count": 386,
   "metadata": {},
   "outputs": [],
   "source": [
    "# all attributes:\n",
    "# ['ts', 'imei', 'mwra', 'c.android.youtube', 'c.katana', 'c.dogalize',\n",
    "# 'c.android.chrome', 'c.android.gm', 'c.UCMobile.x86', 'c.raider',\n",
    "# 'c.android.vending', 'c.updateassist', 'c.UCMobile.intl']\n",
    "\n",
    "# ['latitude', 'longitude', 'store_name', 'code', 'location', 'imei']\n",
    "\n",
    "# ['ts', 'imei', 'mwra', 'p.android.chrome', 'p.android.documentsui',\n",
    "# 'p.android.packageinstaller', 'p.android.settings', 'p.android.gm',\n",
    "# 'p.android.externalstorage', 'p.system', 'p.android.gms', 'p.dogalize',\n",
    "# 'p.process.gapps', 'p.katana', 'p.google', 'p.notifier',\n",
    "# 'p.android.defcontainer', 'p.android.vending', 'p.inputmethod.latin',\n",
    "# 'p.simulator', 'p.olauncher', 'p.browser.provider', 'p.gms.persistent']\n",
    "\n",
    "#['address', 'job', 'birthdate', 'name', 'registration', 'imei', 'ssn',\n",
    "# 'username', 'user_id', 'company', 'current_location', 'mail']\n",
    "\n",
    "\n",
    "# all data have imei attribute"
   ]
  },
  {
   "cell_type": "markdown",
   "metadata": {},
   "source": [
    "- (B-1b) Analýza jednotlivých atribútov: pre zvolené významné atribúty (min 10) analyzujte ich distribúcie a základné deskriptívne štatistiky. \n"
   ]
  },
  {
   "cell_type": "code",
   "execution_count": null,
   "metadata": {},
   "outputs": [],
   "source": [
    "# interesting attributes\n",
    "#1.\n",
    "data2['code'].value_counts()"
   ]
  },
  {
   "cell_type": "code",
   "execution_count": null,
   "metadata": {},
   "outputs": [],
   "source": [
    "sns.countplot(x='code', data=data2)\n",
    "plt.title('Frequency of Country Codes (code)')"
   ]
  },
  {
   "cell_type": "code",
   "execution_count": null,
   "metadata": {},
   "outputs": [],
   "source": [
    "# because there is so many country codes we will only look at the top 10 for sake of clarence\n",
    "top_codes = data2['code'].value_counts().index[:10]\n",
    "data2_top = data2[data2['code'].isin(top_codes)]\n",
    "sns.countplot(x='code', data=data2_top)\n",
    "plt.title('Frequency of Country Codes (code)')"
   ]
  },
  {
   "cell_type": "code",
   "execution_count": null,
   "metadata": {},
   "outputs": [],
   "source": [
    "#2.\n",
    "data2['imei'].describe()"
   ]
  },
  {
   "cell_type": "code",
   "execution_count": null,
   "metadata": {},
   "outputs": [],
   "source": [
    "sns.histplot(data2['imei'], kde=True)\n",
    "plt.title('Distribution of IMEI')"
   ]
  },
  {
   "cell_type": "code",
   "execution_count": null,
   "metadata": {},
   "outputs": [],
   "source": [
    "#3.\n",
    "data3['p.katana'].describe()"
   ]
  },
  {
   "cell_type": "code",
   "execution_count": null,
   "metadata": {},
   "outputs": [],
   "source": [
    "sns.histplot(data3['p.katana'], kde=True)\n",
    "plt.title('Distribution of p.katana')"
   ]
  },
  {
   "cell_type": "code",
   "execution_count": null,
   "metadata": {},
   "outputs": [],
   "source": [
    "#4.\n",
    "data3['p.android.documentsui'].describe()"
   ]
  },
  {
   "cell_type": "code",
   "execution_count": null,
   "metadata": {},
   "outputs": [],
   "source": [
    "sns.histplot(data3['p.android.documentsui'], kde=True)\n",
    "plt.title('Distribution of p.android.documentsui')"
   ]
  },
  {
   "cell_type": "code",
   "execution_count": null,
   "metadata": {},
   "outputs": [],
   "source": [
    "#5.\n",
    "data['c.UCMobile.intl'].describe()"
   ]
  },
  {
   "cell_type": "code",
   "execution_count": null,
   "metadata": {},
   "outputs": [],
   "source": [
    "sns.histplot(data['c.UCMobile.intl'], kde=True)\n",
    "plt.title('Distribution of c.UCMobile.intl')"
   ]
  },
  {
   "cell_type": "code",
   "execution_count": null,
   "metadata": {},
   "outputs": [],
   "source": [
    "#6.\n",
    "data['c.UCMobile.x86'].describe()"
   ]
  },
  {
   "cell_type": "code",
   "execution_count": null,
   "metadata": {},
   "outputs": [],
   "source": [
    "sns.histplot(data['c.UCMobile.x86'], kde=True)\n",
    "plt.title('Distribution of c.UCMobile.x86')"
   ]
  },
  {
   "cell_type": "code",
   "execution_count": null,
   "metadata": {},
   "outputs": [],
   "source": [
    "#7.\n",
    "data['c.android.gm'].describe()"
   ]
  },
  {
   "cell_type": "code",
   "execution_count": null,
   "metadata": {},
   "outputs": [],
   "source": [
    "sns.histplot(data['c.android.gm'], kde=True)\n",
    "plt.title('Distribution of c.android.gm')"
   ]
  },
  {
   "cell_type": "code",
   "execution_count": null,
   "metadata": {},
   "outputs": [],
   "source": [
    "#8.\n",
    "data['c.android.chrome'].describe()"
   ]
  },
  {
   "cell_type": "code",
   "execution_count": null,
   "metadata": {},
   "outputs": [],
   "source": [
    "sns.histplot(data['c.android.chrome'], kde=True)\n",
    "plt.title('Distribution of c.android.chrome')"
   ]
  },
  {
   "cell_type": "code",
   "execution_count": null,
   "metadata": {},
   "outputs": [],
   "source": [
    "#9.\n",
    "data3['p.android.gms'].describe()"
   ]
  },
  {
   "cell_type": "code",
   "execution_count": null,
   "metadata": {},
   "outputs": [],
   "source": [
    "sns.histplot(data3['p.android.gms'], kde=True)\n",
    "plt.title('Distribution of p.android.gms')"
   ]
  },
  {
   "cell_type": "code",
   "execution_count": null,
   "metadata": {},
   "outputs": [],
   "source": [
    "#10.\n",
    "data3['p.android.gm'].describe()"
   ]
  },
  {
   "cell_type": "code",
   "execution_count": null,
   "metadata": {},
   "outputs": [],
   "source": [
    "sns.histplot(data3['p.android.gm'], kde=True)\n",
    "plt.title('Distribution of p.android.gm')"
   ]
  },
  {
   "cell_type": "markdown",
   "metadata": {},
   "source": [
    "- (C-1b) Párová analýza dát: Identifikujte vzťahy a závislostí medzi dvojicami atribútov."
   ]
  },
  {
   "cell_type": "code",
   "execution_count": 408,
   "metadata": {},
   "outputs": [],
   "source": [
    "# In this section we will compare and analyze 5 pairs made from the 10 previous chosen atributes\n",
    "# we can use following methods for pair analysis\n",
    "\n",
    "# continuous-continuous - dependence, correlation\n",
    "# continuous-categorical - difference in the value of the continous attribute depending on the category\n",
    "# categorical-categorical - table, ratio of frequency of values"
   ]
  },
  {
   "cell_type": "code",
   "execution_count": null,
   "metadata": {},
   "outputs": [],
   "source": [
    "\n",
    "# continuous-categorical\n",
    "# data2['imei'] - data2['code']\n",
    "imei_by_code_mean = data2_top.groupby('code')['imei'].mean()\n",
    "print(\"Mean IMEI by code:\")\n",
    "print(imei_by_code_mean)\n",
    "\n",
    "imei_by_code_median = data2_top.groupby('code')['imei'].median()\n",
    "print(\"Median IMEI by code:\")\n",
    "print(imei_by_code_median)"
   ]
  },
  {
   "cell_type": "code",
   "execution_count": null,
   "metadata": {},
   "outputs": [],
   "source": [
    "sns.boxplot(x='code', y='imei', data=data2_top)\n",
    "plt.title('IMEI Distribution by Country Code')\n"
   ]
  },
  {
   "cell_type": "code",
   "execution_count": null,
   "metadata": {},
   "outputs": [],
   "source": [
    "# continuous - continuous \n",
    "# data3['p.katana'] - data3['p.android.documentsui']\n",
    "\n",
    "# Correlation analysis\n",
    "correlation = data3[['p.katana', 'p.android.documentsui']].corr()\n",
    "print(correlation)"
   ]
  },
  {
   "cell_type": "code",
   "execution_count": null,
   "metadata": {},
   "outputs": [],
   "source": [
    "# Scatter plot\n",
    "sns.scatterplot(x=data3['p.katana'], y=data3['p.android.documentsui'])\n",
    "plt.title('Scatter Plot of p.katana vs p.android.documentsui')\n",
    "plt.xlabel('p.katana')\n",
    "plt.ylabel('p.android.documentsui')\n"
   ]
  },
  {
   "cell_type": "code",
   "execution_count": null,
   "metadata": {},
   "outputs": [],
   "source": [
    "# Pair plot for pairwise analysis\n",
    "sns.pairplot(data3[['p.katana', 'p.android.documentsui']])"
   ]
  },
  {
   "cell_type": "code",
   "execution_count": null,
   "metadata": {},
   "outputs": [],
   "source": [
    "# continuous - continuous \n",
    "# data['c.UCMobile.intl'] - data['c.UCMobile.x86']\n",
    "\n",
    "# Correlation analysis\n",
    "a, b = ['c.UCMobile.intl', 'c.UCMobile.x86']\n",
    "correlation = data[[a,b]].corr()\n",
    "print(correlation)"
   ]
  },
  {
   "cell_type": "code",
   "execution_count": null,
   "metadata": {},
   "outputs": [],
   "source": [
    "# Scatter plot\n",
    "sns.scatterplot(x=data[a], y=data[b])\n",
    "plt.title(f'Scatter Plot of {a} vs c{b}')\n",
    "plt.xlabel(a)\n",
    "plt.ylabel(b)"
   ]
  },
  {
   "cell_type": "code",
   "execution_count": null,
   "metadata": {},
   "outputs": [],
   "source": [
    "# Pair plot for pairwise analysis\n",
    "sns.pairplot(data[[a,b]])"
   ]
  },
  {
   "cell_type": "code",
   "execution_count": null,
   "metadata": {},
   "outputs": [],
   "source": [
    "# continuous - continuous \n",
    "# data['c.android.gm'] - data['c.android.chrome']\n",
    "\n",
    "# Correlation analysis\n",
    "a, b = ['c.android.gm', 'c.android.chrome']\n",
    "correlation = data[[a,b]].corr()\n",
    "print(correlation)"
   ]
  },
  {
   "cell_type": "code",
   "execution_count": null,
   "metadata": {},
   "outputs": [],
   "source": [
    "# Scatter plot\n",
    "sns.scatterplot(x=data[a], y=data[b])\n",
    "plt.title(f'Scatter Plot of {a} vs c{b}')\n",
    "plt.xlabel(a)\n",
    "plt.ylabel(b)"
   ]
  },
  {
   "cell_type": "code",
   "execution_count": null,
   "metadata": {},
   "outputs": [],
   "source": [
    "# Pair plot for pairwise analysis\n",
    "sns.pairplot(data[[a,b]])"
   ]
  },
  {
   "cell_type": "code",
   "execution_count": null,
   "metadata": {},
   "outputs": [],
   "source": [
    "# continuous - continuous \n",
    "# data3['p.android.gms'] - data3['p.android.gm']\n",
    "\n",
    "# Correlation analysis\n",
    "a, b = ['p.android.gms', 'p.android.gm']\n",
    "correlation = data3[[a,b]].corr()\n",
    "print(correlation)"
   ]
  },
  {
   "cell_type": "code",
   "execution_count": null,
   "metadata": {},
   "outputs": [],
   "source": [
    "# Scatter plot\n",
    "sns.scatterplot(x=data3[a], y=data3[b])\n",
    "plt.title(f'Scatter Plot of {a} vs c{b}')\n",
    "plt.xlabel(a)\n",
    "plt.ylabel(b)"
   ]
  },
  {
   "cell_type": "code",
   "execution_count": null,
   "metadata": {},
   "outputs": [],
   "source": [
    "# Pair plot for pairwise analysis\n",
    "sns.pairplot(data3[[a,b]])"
   ]
  },
  {
   "cell_type": "markdown",
   "metadata": {},
   "source": [
    "- (D-1b) Párová analýza dát: Identifikujte závislosti medzi predikovanou premennou a ostatnými premennými (potenciálnymi prediktormi)."
   ]
  },
  {
   "cell_type": "code",
   "execution_count": 423,
   "metadata": {},
   "outputs": [],
   "source": [
    "# in this step we will create correlation matrix for each set of data with numeric\n",
    "# collumns and show it on a heat map"
   ]
  },
  {
   "cell_type": "code",
   "execution_count": null,
   "metadata": {},
   "outputs": [],
   "source": [
    "data_corr = data.corr(numeric_only=True)\n",
    "dataplot = sns.heatmap(data_corr, cmap=\"YlGnBu\", annot=True, annot_kws={\"size\": 6})\n",
    "plt.show()"
   ]
  },
  {
   "cell_type": "code",
   "execution_count": null,
   "metadata": {},
   "outputs": [],
   "source": [
    "# from dataset connection.csv there is positive 0.54 correlation between\n",
    "# c.katana and mwra\n",
    "# and lowest correlation is with c.dogalize -0.28\n",
    "data_mwra_corr = data_corr['mwra']\n",
    "data_corr_filter = data_mwra_corr[data_mwra_corr != 1]\n",
    "print(data_corr_filter.idxmin(), end=': ')\n",
    "print(data_corr_filter.min())\n",
    "\n",
    "print(data_corr_filter.idxmax(), end=': ')\n",
    "print(data_corr_filter.max())"
   ]
  },
  {
   "cell_type": "code",
   "execution_count": 426,
   "metadata": {},
   "outputs": [],
   "source": [
    "# dataplot = sns.heatmap(data2.corr(numeric_only=True), cmap=\"YlGnBu\", annot=True)\n",
    "# plt.show()"
   ]
  },
  {
   "cell_type": "code",
   "execution_count": 427,
   "metadata": {},
   "outputs": [],
   "source": [
    "# in dataset devices.csv there isnt mwra column"
   ]
  },
  {
   "cell_type": "code",
   "execution_count": null,
   "metadata": {},
   "outputs": [],
   "source": [
    "data3_corr = data3.corr(numeric_only=True)\n",
    "dataplot = sns.heatmap(data3_corr, cmap=\"YlGnBu\", annot=True, annot_kws={\"size\": 5})\n",
    "plt.show()"
   ]
  },
  {
   "cell_type": "code",
   "execution_count": null,
   "metadata": {},
   "outputs": [],
   "source": [
    "data_mwra_corr = data3_corr['mwra']\n",
    "data_corr_filter = data_mwra_corr[data_mwra_corr != 1]\n",
    "print(data_corr_filter.idxmin(), end=': ')\n",
    "print(data_corr_filter.min())\n",
    "\n",
    "print(data_corr_filter.idxmax(), end=': ')\n",
    "print(data_corr_filter.max())"
   ]
  },
  {
   "cell_type": "code",
   "execution_count": 430,
   "metadata": {},
   "outputs": [],
   "source": [
    "# dataplot = sns.heatmap(data4.corr(numeric_only=True), cmap=\"YlGnBu\", annot=True, annot_kws={\"size\": 5})\n",
    "# plt.show()"
   ]
  },
  {
   "cell_type": "code",
   "execution_count": 431,
   "metadata": {},
   "outputs": [],
   "source": [
    "# correlation with atribute mwra were following\n",
    "\n",
    "# the greates possitive connections.csv => c.katana: 0.53897021524728\n",
    "\n",
    "# the gretest negative processes.csv => p.android.gm: -0.583415699439614\n"
   ]
  },
  {
   "cell_type": "markdown",
   "metadata": {},
   "source": [
    "- (E-1b) Dokumentujte Vaše prvotné zamyslenie k riešeniu zadania projektu, napr. sú niektoré atribúty medzi sebou závislé? od ktorých atribútov závisí predikovaná premenná? či je potrebné kombinovať záznamy z viacerých súborov?"
   ]
  },
  {
   "cell_type": "code",
   "execution_count": 432,
   "metadata": {},
   "outputs": [],
   "source": [
    "# combining rows from different files is in this case inefficient and nearly imposible\n",
    "# the only atribute that the files share is atribute imei which clearly cant be used as a key\n",
    "# for joining the data. This is because the imei is not unique in any dataset\n",
    "# the only way to get unique imei is combining it with timestamp and creating new atribute "
   ]
  },
  {
   "cell_type": "code",
   "execution_count": null,
   "metadata": {},
   "outputs": [],
   "source": []
  },
  {
   "cell_type": "code",
   "execution_count": null,
   "metadata": {},
   "outputs": [],
   "source": []
  }
 ],
 "metadata": {
  "kernelspec": {
   "display_name": "venv",
   "language": "python",
   "name": "python3"
  },
  "language_info": {
   "codemirror_mode": {
    "name": "ipython",
    "version": 3
   },
   "file_extension": ".py",
   "mimetype": "text/x-python",
   "name": "python",
   "nbconvert_exporter": "python",
   "pygments_lexer": "ipython3",
   "version": "3.12.0"
  }
 },
 "nbformat": 4,
 "nbformat_minor": 2
}
