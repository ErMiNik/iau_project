{
 "cells": [
  {
   "cell_type": "markdown",
   "metadata": {},
   "source": [
    "# 3.1 Jednoduchý klasifikátor na základe závislosti v dátach  (5b)"
   ]
  },
  {
   "cell_type": "code",
   "execution_count": 140,
   "metadata": {},
   "outputs": [],
   "source": [
    "import pandas as pd\n",
    "from pathlib import Path\n",
    "import numpy as np\n",
    "folder = Path(\"./070\")\n",
    "\n",
    "# Načítanie dát\n",
    "train_data = pd.read_csv(folder / 'train_data.csv')\n",
    "test_data = pd.read_csv(folder / \"test_data.csv\")"
   ]
  },
  {
   "cell_type": "code",
   "execution_count": 141,
   "metadata": {},
   "outputs": [],
   "source": [
    "# Rozdelenie na vstupy (X) a cieľovú premennú (y)\n",
    "X_train = train_data[['p.katana', 'p.android.gm', 'p.android.documentsui']].to_numpy()\n",
    "y_train = train_data['mwra'].to_numpy()"
   ]
  },
  {
   "cell_type": "markdown",
   "metadata": {},
   "source": [
    "## (A-3b) Naimplementujte jednoduchý ID3 klasifikátor s hĺbkou min 2 (vrátane root/koreň). \n"
   ]
  },
  {
   "cell_type": "code",
   "execution_count": 142,
   "metadata": {},
   "outputs": [],
   "source": [
    "# funkcia na vypocet entropy podla vzorca\n",
    "def entropy(y):\n",
    "    counts = np.bincount(y.astype(int))\n",
    "    probabilities = counts / len(y)\n",
    "    return -np.sum([p * np.log2(p) for p in probabilities if p > 0])\n",
    "\n",
    "# Funkcia na výpočet informačného zisku podla vzorca\n",
    "def information_gain(X, y, feature_index):\n",
    "    total_entropy = entropy(y)\n",
    "    values, counts = np.unique(X[:, feature_index], return_counts=True)\n",
    "    weighted_entropy = np.sum([(counts[i] / np.sum(counts)) * entropy(y[X[:, feature_index] == values[i]])\n",
    "                               for i in range(len(values))])\n",
    "    return total_entropy - weighted_entropy\n"
   ]
  },
  {
   "cell_type": "code",
   "execution_count": 143,
   "metadata": {},
   "outputs": [],
   "source": [
    "# Implementacia nasho ID3 Klasifikatora\n",
    "\n",
    "# pseudokod z https://www.geeksforgeeks.org/sklearn-iterative-dichotomiser-3-id3-algorithms/\n",
    "\n",
    "# def ID3(D, A):\n",
    "#   if D is pure or A is empty:\n",
    "#     return a leaf node with the majority class in D\n",
    "#   else:\n",
    "#     A_best = argmax(InformationGain(D, A))\n",
    "#     root = Node(A_best)\n",
    "#     for v in values(A_best):\n",
    "#       D_v = subset(D, A_best, v)\n",
    "#       child = ID3(D_v, A - {A_best})\n",
    "#       root.add_child(v, child)\n",
    "#     return root\n",
    "\n",
    "# ID3 Klasifikátor\n",
    "class ID3Tree:\n",
    "    def __init__(self, max_depth=2):\n",
    "        self.max_depth = max_depth\n",
    "        self.tree = {}\n",
    "\n",
    "    def fit(self, X, y, depth=0):\n",
    "        # Skonči, ak je hĺbka >= max_depth alebo všetky vzorky majú rovnakú triedu\n",
    "        if depth >= self.max_depth or len(np.unique(y)) == 1:\n",
    "            return np.argmax(np.bincount(y.astype(int)))\n",
    "        \n",
    "        # Vyber atribút s najvyšším informačným ziskom\n",
    "        best_feature = np.argmax([information_gain(X, y, i) for i in range(X.shape[1])])\n",
    "        tree = {best_feature: {}}\n",
    "        \n",
    "        # Rozdeľ dáta podľa hodnôt najlepšieho atribútu\n",
    "        values = np.unique(X[:, best_feature])\n",
    "        for value in values:\n",
    "            subset_X = X[X[:, best_feature] == value]\n",
    "            subset_y = y[X[:, best_feature] == value]\n",
    "            tree[best_feature][value] = self.fit(subset_X, subset_y, depth + 1)\n",
    "        \n",
    "        self.tree = tree\n",
    "        return tree\n",
    "\n",
    "    def predict_one(self, x):\n",
    "        node = self.tree\n",
    "        while isinstance(node, dict):\n",
    "            feature = list(node.keys())[0]\n",
    "            value = x[feature]\n",
    "            node = node[feature].get(value, np.argmax(np.bincount(y.astype(int))))\n",
    "        return node\n",
    "\n",
    "    def predict(self, X):\n",
    "        return np.array([self.predict_one(x) for x in X])\n",
    "\n"
   ]
  },
  {
   "cell_type": "code",
   "execution_count": 144,
   "metadata": {},
   "outputs": [],
   "source": [
    "# Trénovanie ID3 klasifikátora\n",
    "id3_tree = ID3Tree(max_depth=2)\n",
    "idk = id3_tree.fit(X_train, y_train)"
   ]
  },
  {
   "cell_type": "markdown",
   "metadata": {},
   "source": [
    "## (B-1b) Vyhodnoťte Váš ID3 klasifikátor pomocou metrík accuracy, precision a recall.\n"
   ]
  },
  {
   "cell_type": "code",
   "execution_count": 145,
   "metadata": {},
   "outputs": [
    {
     "name": "stdout",
     "output_type": "stream",
     "text": [
      "Tréningová množina:\n",
      "  Accuracy: 1.00\n",
      "  Precision: 1.00\n",
      "  Recall: 1.00\n",
      "\n",
      "Testovacia množina:\n",
      "  Accuracy: 0.65\n",
      "  Precision: 0.65\n",
      "  Recall: 1.00\n"
     ]
    }
   ],
   "source": [
    "# Vyhodnotenie metriky\n",
    "from sklearn.metrics import accuracy_score, precision_score, recall_score\n",
    "\n",
    "# Rozdelenie testovacích dát na vstupy a cieľovú premennú\n",
    "X_test = test_data[['p.katana', 'p.android.gm', 'p.android.documentsui']].to_numpy()\n",
    "y_test = test_data['mwra'].to_numpy()\n",
    "\n",
    "# Predikcie na tréningovej množine\n",
    "y_train_pred = id3_tree.predict(X_train)\n",
    "\n",
    "# Predikcie na testovacej množine\n",
    "y_test_pred = id3_tree.predict(X_test)\n",
    "\n",
    "# Výpočet metrík pre tréningové dáta\n",
    "train_accuracy = accuracy_score(y_train, y_train_pred)\n",
    "train_precision = precision_score(y_train, y_train_pred)\n",
    "train_recall = recall_score(y_train, y_train_pred)\n",
    "\n",
    "# Výpočet metrík pre testovacie dáta\n",
    "test_accuracy = accuracy_score(y_test, y_test_pred)\n",
    "test_precision = precision_score(y_test, y_test_pred)\n",
    "test_recall = recall_score(y_test, y_test_pred)\n",
    "\n",
    "# Zobrazenie výsledkov\n",
    "print(\"Tréningová množina:\")\n",
    "print(f\"  Accuracy: {train_accuracy:.2f}\")\n",
    "print(f\"  Precision: {train_precision:.2f}\")\n",
    "print(f\"  Recall: {train_recall:.2f}\")\n",
    "\n",
    "print(\"\\nTestovacia množina:\")\n",
    "print(f\"  Accuracy: {test_accuracy:.2f}\")\n",
    "print(f\"  Precision: {test_precision:.2f}\")\n",
    "print(f\"  Recall: {test_recall:.2f}\")\n"
   ]
  },
  {
   "cell_type": "markdown",
   "metadata": {},
   "source": [
    "## (C-1b) Zístite či Váš ID3 klasifikátor má overfit."
   ]
  },
  {
   "cell_type": "code",
   "execution_count": 146,
   "metadata": {},
   "outputs": [],
   "source": [
    "# Výsledky ukazujú, že náš model ID3 klasifikátora trpí overfittingom.\n",
    "# Toto je evidentné z nasledujúcich pozorovaní:\n",
    "\n",
    "# - Tréningová množina:\n",
    "\n",
    "# Accuracy, Precision a Recall = 1.00: Model dosahuje dokonalé výsledky na tréningových dátach,\n",
    "# čo naznačuje, že model „zapamätal“ dáta a nie je schopný generalizovať.\n",
    "\n",
    "# - Testovacia množina:\n",
    "\n",
    "# Accuracy = 0.65 a Precision = 0.65: Model má problémy s predikciou na nevidených dátach.\n",
    "# Recall = 1.00: Model vždy správne identifikuje všetky pozitívne prípady, ale pri tom pravdepodobne\n",
    "# označuje veľa negatívnych prípadov ako pozitívne, čo znižuje presnosť (precision)."
   ]
  },
  {
   "cell_type": "markdown",
   "metadata": {},
   "source": [
    "# 3.2 Trénovanie a vyhodnotenie klasifikátorov strojového učenia (5b)\n"
   ]
  },
  {
   "cell_type": "markdown",
   "metadata": {},
   "source": [
    "## (A-1b) Na trénovanie využite jeden stromový algoritmus v scikit-learn.\n"
   ]
  },
  {
   "cell_type": "code",
   "execution_count": 147,
   "metadata": {},
   "outputs": [],
   "source": [
    "from sklearn.tree import DecisionTreeClassifier\n",
    "\n",
    "# Vytvorenie a trénovanie Decision Tree Classifier\n",
    "tree_clf = DecisionTreeClassifier(max_depth=3, random_state=42)\n",
    "tree_clf.fit(X_train, y_train)\n",
    "\n",
    "# Predikcie na testovacích dátach\n",
    "y_test_pred_tree = tree_clf.predict(X_test)"
   ]
  },
  {
   "cell_type": "markdown",
   "metadata": {},
   "source": [
    "## (B-1b) Porovnajte s jedným iným nestromovým algoritmom v scikit-learn."
   ]
  },
  {
   "cell_type": "code",
   "execution_count": 148,
   "metadata": {},
   "outputs": [],
   "source": [
    "from sklearn.linear_model import LogisticRegression\n",
    "\n",
    "# Vytvorenie a trénovanie Logistic Regression Classifier\n",
    "log_reg = LogisticRegression(random_state=42, max_iter=1000)\n",
    "log_reg.fit(X_train, y_train)\n",
    "\n",
    "# Predikcie na testovacích dátach\n",
    "y_test_pred_log_reg = log_reg.predict(X_test)\n"
   ]
  },
  {
   "cell_type": "markdown",
   "metadata": {},
   "source": [
    "\n",
    "## (C-1b) Porovnajte výsledky s ID3 z prvého kroku."
   ]
  },
  {
   "cell_type": "code",
   "execution_count": 149,
   "metadata": {},
   "outputs": [
    {
     "name": "stdout",
     "output_type": "stream",
     "text": [
      "Porovnanie výsledkov na testovacích dátach:\n",
      "ID3:\n",
      "  Accuracy: 0.65\n",
      "  Precision: 0.65\n",
      "  Recall: 1.00\n",
      "\n",
      "Decision Tree:\n",
      "  Accuracy: 0.85\n",
      "  Precision: 0.88\n",
      "  Recall: 0.88\n",
      "\n",
      "Logistic Regression:\n",
      "  Accuracy: 0.86\n",
      "  Precision: 0.87\n",
      "  Recall: 0.92\n",
      "\n"
     ]
    }
   ],
   "source": [
    "from sklearn.metrics import accuracy_score, precision_score, recall_score\n",
    "\n",
    "# Všetky predikcie\n",
    "y_test_pred_id3 = id3_tree.predict(X_test)\n",
    "\n",
    "# Výpočet metrík pre každý model\n",
    "models = {\n",
    "    \"ID3\": y_test_pred_id3,\n",
    "    \"Decision Tree\": y_test_pred_tree,\n",
    "    \"Logistic Regression\": y_test_pred_log_reg\n",
    "}\n",
    "\n",
    "print(\"Porovnanie výsledkov na testovacích dátach:\")\n",
    "for model_name, y_pred in models.items():\n",
    "    accuracy = accuracy_score(y_test, y_pred)\n",
    "    precision = precision_score(y_test, y_pred)\n",
    "    recall = recall_score(y_test, y_pred)\n",
    "    print(f\"{model_name}:\")\n",
    "    print(f\"  Accuracy: {accuracy:.2f}\")\n",
    "    print(f\"  Precision: {precision:.2f}\")\n",
    "    print(f\"  Recall: {recall:.2f}\\n\")\n"
   ]
  },
  {
   "cell_type": "markdown",
   "metadata": {},
   "source": [
    "\n",
    "## (D-1b) Vizualizujte natrénované pravidlá minimálne pre jeden Vami vybraný algoritmus"
   ]
  },
  {
   "cell_type": "code",
   "execution_count": 150,
   "metadata": {},
   "outputs": [
    {
     "data": {
      "image/png": "[encoded data removed]",
      "text/plain": [
       "<Figure size 1200x800 with 1 Axes>"
      ]
     },
     "metadata": {},
     "output_type": "display_data"
    }
   ],
   "source": [
    "from sklearn.tree import plot_tree\n",
    "import matplotlib.pyplot as plt\n",
    "\n",
    "# Vizualizácia rozhodovacieho stromu\n",
    "plt.figure(figsize=(12, 8))\n",
    "plot_tree(tree_clf, feature_names=['p.katana', 'p.android.gm', 'p.android.documentsui'], class_names=['mwra=0', 'mwra=1'], filled=True)\n",
    "plt.title(\"Vizualizácia rozhodovacieho stromu\")\n",
    "plt.show()\n"
   ]
  },
  {
   "cell_type": "markdown",
   "metadata": {},
   "source": [
    "\n",
    "## (E-1b) Vyhodnoťte natrénované modely pomocou metrík accuracy, precision a recall"
   ]
  },
  {
   "cell_type": "code",
   "execution_count": 151,
   "metadata": {},
   "outputs": [],
   "source": [
    "# Toto je zahrnute v 3.2 c)"
   ]
  },
  {
   "cell_type": "markdown",
   "metadata": {},
   "source": [
    "# 3.3 Optimalizácia alias hyperparameter tuning (5b)\n",
    "\n"
   ]
  },
  {
   "cell_type": "markdown",
   "metadata": {},
   "source": [
    "## (A-1b) Vyskúšajte rôzne nastavenie hyperparametrov (tuning) pre zvolený algoritmus tak, aby ste optimalizovali výkonnosť (bez underfitingu).\n"
   ]
  },
  {
   "cell_type": "code",
   "execution_count": 152,
   "metadata": {},
   "outputs": [
    {
     "name": "stdout",
     "output_type": "stream",
     "text": [
      "Fitting 5 folds for each of 90 candidates, totalling 450 fits\n",
      "Najlepšie hyperparametre: {'criterion': 'entropy', 'max_depth': 5, 'min_samples_leaf': 4, 'min_samples_split': 10}\n"
     ]
    }
   ],
   "source": [
    "from sklearn.tree import DecisionTreeClassifier\n",
    "from sklearn.model_selection import GridSearchCV\n",
    "\n",
    "# Nastavenie hyperparametrov na skúšanie\n",
    "param_grid = {\n",
    "    'criterion': ['gini', 'entropy'],\n",
    "    'max_depth': [2, 3, 5, 10, None],\n",
    "    'min_samples_split': [2, 5, 10],\n",
    "    'min_samples_leaf': [1, 2, 4]\n",
    "}\n",
    "\n",
    "# Inicializácia modelu\n",
    "dt_model = DecisionTreeClassifier(random_state=42)\n",
    "\n",
    "# Použitie GridSearchCV\n",
    "grid_search = GridSearchCV(estimator=dt_model, param_grid=param_grid, cv=5, scoring='accuracy', verbose=1)\n",
    "grid_search.fit(X_train, y_train)\n",
    "\n",
    "# Najlepšie parametre\n",
    "print(\"Najlepšie hyperparametre:\", grid_search.best_params_)\n",
    "best_dt_model = grid_search.best_estimator_"
   ]
  },
  {
   "cell_type": "markdown",
   "metadata": {},
   "source": [
    "## (B-1b) Vyskúšajte kombinácie modelov (ensemble) pre zvolený algoritmus tak, aby ste optimalizovali výkonnosť (bez underfitingu) . \n"
   ]
  },
  {
   "cell_type": "code",
   "execution_count": 155,
   "metadata": {},
   "outputs": [
    {
     "name": "stdout",
     "output_type": "stream",
     "text": [
      "Bagging accuracy: 0.85\n",
      "Random Forest accuracy: 0.85\n"
     ]
    }
   ],
   "source": [
    "from sklearn.ensemble import BaggingClassifier, RandomForestClassifier\n",
    "\n",
    "# Ensemble: Bagging s DecisionTree\n",
    "bagging_model = BaggingClassifier(estimator=DecisionTreeClassifier(random_state=42), n_estimators=50, random_state=42)\n",
    "bagging_model.fit(X_train, y_train)\n",
    "\n",
    "# Ensemble: Random Forest\n",
    "rf_model = RandomForestClassifier(n_estimators=100, random_state=42)\n",
    "rf_model.fit(X_train, y_train)\n",
    "\n",
    "# Vyhodnotenie na testovacích dátach\n",
    "bagging_accuracy = bagging_model.score(X_test, y_test)\n",
    "rf_accuracy = rf_model.score(X_test, y_test)\n",
    "\n",
    "print(f\"Bagging accuracy: {bagging_accuracy:.2f}\")\n",
    "print(f\"Random Forest accuracy: {rf_accuracy:.2f}\")\n"
   ]
  },
  {
   "cell_type": "markdown",
   "metadata": {},
   "source": [
    "## (C-1b) Využite krížovú validáciu (cross validation) na trénovacej množine.\n"
   ]
  },
  {
   "cell_type": "code",
   "execution_count": 156,
   "metadata": {},
   "outputs": [
    {
     "name": "stdout",
     "output_type": "stream",
     "text": [
      "Priemerná presnosť po krížovej validácii: 0.85\n",
      "Priemerná presnosť po krížovej validácii pre Random Forest: 0.84\n"
     ]
    }
   ],
   "source": [
    "from sklearn.model_selection import cross_val_score\n",
    "\n",
    "# Cross-validation pre DecisionTreeClassifier\n",
    "cv_scores = cross_val_score(best_dt_model, X_train, y_train, cv=5, scoring='accuracy')\n",
    "print(f\"Priemerná presnosť po krížovej validácii: {cv_scores.mean():.2f}\")\n",
    "\n",
    "# Cross-validation pre RandomForestClassifier\n",
    "rf_cv_scores = cross_val_score(rf_model, X_train, y_train, cv=5, scoring='accuracy')\n",
    "print(f\"Priemerná presnosť po krížovej validácii pre Random Forest: {rf_cv_scores.mean():.2f}\")\n"
   ]
  },
  {
   "cell_type": "markdown",
   "metadata": {},
   "source": [
    "## (D-2b) Dokážte že Váš nastavený najlepší model je bez overfitingu."
   ]
  },
  {
   "cell_type": "code",
   "execution_count": 157,
   "metadata": {},
   "outputs": [
    {
     "name": "stdout",
     "output_type": "stream",
     "text": [
      "Trénovacia množina:\n",
      "  Accuracy: 0.87, Precision: 0.89, Recall: 0.91\n",
      "\n",
      "Testovacia množina:\n",
      "  Accuracy: 0.85, Precision: 0.87, Recall: 0.90\n",
      "Model nie je overfit.\n"
     ]
    }
   ],
   "source": [
    "from sklearn.metrics import accuracy_score, precision_score, recall_score\n",
    "\n",
    "# Predikcie na trénovacích dátach\n",
    "y_train_pred = best_dt_model.predict(X_train)\n",
    "\n",
    "# Predikcie na testovacích dátach\n",
    "y_test_pred = best_dt_model.predict(X_test)\n",
    "\n",
    "# Výpočet metrík pre trénovaciu množinu\n",
    "train_accuracy = accuracy_score(y_train, y_train_pred)\n",
    "train_precision = precision_score(y_train, y_train_pred)\n",
    "train_recall = recall_score(y_train, y_train_pred)\n",
    "\n",
    "# Výpočet metrík pre testovaciu množinu\n",
    "test_accuracy = accuracy_score(y_test, y_test_pred)\n",
    "test_precision = precision_score(y_test, y_test_pred)\n",
    "test_recall = recall_score(y_test, y_test_pred)\n",
    "\n",
    "# Výstup\n",
    "print(\"Trénovacia množina:\")\n",
    "print(f\"  Accuracy: {train_accuracy:.2f}, Precision: {train_precision:.2f}, Recall: {train_recall:.2f}\")\n",
    "\n",
    "print(\"\\nTestovacia množina:\")\n",
    "print(f\"  Accuracy: {test_accuracy:.2f}, Precision: {test_precision:.2f}, Recall: {test_recall:.2f}\")\n",
    "\n",
    "# Posúdenie, či je model overfit\n",
    "if train_accuracy - test_accuracy > 0.1:\n",
    "    print(\"Model je overfit.\")\n",
    "else:\n",
    "    print(\"Model nie je overfit.\")\n"
   ]
  },
  {
   "cell_type": "markdown",
   "metadata": {},
   "source": [
    "# 3.4 Vyhodnotenie vplyvu zvolenej stratégie riešenia na klasifikáciu (5b) \n",
    "Vyhodnoťte Vami zvolené stratégie riešenia projektu z hľadiska classification accuracy, či sú učinné pre Váš dataset: \n"
   ]
  },
  {
   "cell_type": "markdown",
   "metadata": {},
   "source": [
    "## (A-1b) Stratégie riešenia chýbajúcich hodnôt a outlierov\n"
   ]
  },
  {
   "cell_type": "markdown",
   "metadata": {},
   "source": [
    "## (B-1b) Dátová transformácia (scaling, transformer, …)\n"
   ]
  },
  {
   "cell_type": "markdown",
   "metadata": {},
   "source": [
    "## (C-1b) Výber atribútov, výber algoritmov, hyperparameter tuning, ensemble learning\n"
   ]
  },
  {
   "cell_type": "markdown",
   "metadata": {},
   "source": [
    "## (D-1b) Ktorý model je Váš najlepší model pre nasadenie (deployment)? \n"
   ]
  },
  {
   "cell_type": "markdown",
   "metadata": {},
   "source": [
    "## (E-1b) Aký je data pipeline pre jeho vybudovanie na základe Vášho datasetu v produkcii?\n"
   ]
  }
 ],
 "metadata": {
  "kernelspec": {
   "display_name": "venv",
   "language": "python",
   "name": "python3"
  },
  "language_info": {
   "codemirror_mode": {
    "name": "ipython",
    "version": 3
   },
   "file_extension": ".py",
   "mimetype": "text/x-python",
   "name": "python",
   "nbconvert_exporter": "python",
   "pygments_lexer": "ipython3",
   "version": "3.12.0"
  }
 },
 "nbformat": 4,
 "nbformat_minor": 2
}
